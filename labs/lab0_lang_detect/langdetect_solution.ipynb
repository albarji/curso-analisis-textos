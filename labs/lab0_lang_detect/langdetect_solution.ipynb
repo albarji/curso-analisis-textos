{
 "cells": [
  {
   "cell_type": "markdown",
   "metadata": {
    "nbgrader": {
     "grade": false,
     "locked": false,
     "solution": false
    }
   },
   "source": [
    "# Práctica: detector de idioma"
   ]
  },
  {
   "cell_type": "markdown",
   "metadata": {
    "nbgrader": {
     "grade": false,
     "locked": false,
     "solution": false
    }
   },
   "source": [
    "<img src=\"img/multilingual.png\" style=\"width:400px;\">"
   ]
  },
  {
   "cell_type": "markdown",
   "metadata": {
    "nbgrader": {
     "grade": false,
     "locked": false,
     "solution": false
    }
   },
   "source": [
    "En esta práctica vamos a construir un detector automático de idioma, capaz de discriminar texto de 20 idiomas diferentes. Para ello vamos a utilizar únicamente método basados en análisis de caracteres, que sin embargo resultan ser muy efectivos para este problema."
   ]
  },
  {
   "cell_type": "markdown",
   "metadata": {
    "nbgrader": {
     "grade": false,
     "locked": false,
     "solution": false
    }
   },
   "source": [
    "## Instrucciones"
   ]
  },
  {
   "cell_type": "markdown",
   "metadata": {
    "nbgrader": {
     "grade": false,
     "locked": false,
     "solution": false
    }
   },
   "source": [
    "A lo largo de este cuaderno encontrarás celdas vacías que tendrás que rellenar con tu propio código. Sigue las instrucciones del cuaderno y presta especial atención a los siguientes iconos:\n",
    "\n",
    "<table>\n",
    "<tr><td width=\"80\"><img src=\"img/question.png\" style=\"width:auto;height:auto\"></td><td style=\"text-align:left\">Deberás responder a la pregunta indicada con el código o contestación que escribas en la celda inferior.</td></tr>\n",
    " <tr><td width=\"80\"><img src=\"img/exclamation.png\" style=\"width:auto;height:auto\"></td><td style=\"text-align:left\">Esto es una pista u observación que te puede ayudar a resolver la práctica.</td></tr>\n",
    " <tr><td width=\"80\"><img src=\"img/pro.png\" style=\"width:auto;height:auto\"></td><td style=\"text-align:left\">Este es un ejercicio avanzado y voluntario que puedes realizar si quieres profundar más sobre el tema. Te animamos a intentarlo para aprender más ¡Ánimo!</td></tr>\n",
    "</table>\n",
    "\n",
    "Para evitar problemas de compatibilidad y de paquetes no instalados, se recomienda ejecutar este notebook bajo uno de los [entornos recomendados de Text Mining](https://github.com/albarji/teaching-environments/tree/master/textmining).\n",
    "\n",
    "Adicionalmente si necesitas consultar la ayuda de cualquier función python puedes colocar el cursor de escritura sobre el nombre de la misma y pulsar Mayúsculas+Shift para que aparezca un recuadro con sus detalles. Ten en cuenta que esto únicamente funciona en las celdas de código.\n",
    "\n",
    "¡Adelante!"
   ]
  },
  {
   "cell_type": "markdown",
   "metadata": {
    "nbgrader": {
     "grade": false,
     "locked": false,
     "solution": false
    }
   },
   "source": [
    "## Carga y preparación de datos"
   ]
  },
  {
   "cell_type": "markdown",
   "metadata": {},
   "source": [
    "Para este ejercicio usaremos el corpus de muestras de frases de diferentes idiomas que puede obtenerse de Tatoeba: https://tatoeba.org/eng/downloads ."
   ]
  },
  {
   "cell_type": "markdown",
   "metadata": {},
   "source": [
    "<table>\n",
    " <tr>\n",
    "  <tr><td width=\"80\"><img src=\"img/question.png\" style=\"width:auto;height:auto\"></td><td style=\"text-align:left\">\n",
    "    Descarga el fichero <i>sentences.tar.bz2</i> de la web de Tatoeba y descomprímelo. Crea una variable DATAFILE con la ruta completa al fichero descomprimido.\n",
    "  </td>\n",
    " </tr> \n",
    "</table>"
   ]
  },
  {
   "cell_type": "code",
   "execution_count": 1,
   "metadata": {},
   "outputs": [],
   "source": [
    "####### INSERT YOUR CODE HERE\n",
    "DATAFILE = \"/home/alvaro/Descargas/sentences.csv\""
   ]
  },
  {
   "cell_type": "markdown",
   "metadata": {},
   "source": [
    "Al tratarse de un fichero en formato TSV (tab separated file) podemos cargarlo como un Dataframe de pandas con facilidad. Si lo has descargado y has indicado la ruta correctamente, la siguiente celda debería cargar los datos y mostrar una porción de los mismos."
   ]
  },
  {
   "cell_type": "code",
   "execution_count": 2,
   "metadata": {},
   "outputs": [
    {
     "data": {
      "text/html": [
       "<div>\n",
       "<style scoped>\n",
       "    .dataframe tbody tr th:only-of-type {\n",
       "        vertical-align: middle;\n",
       "    }\n",
       "\n",
       "    .dataframe tbody tr th {\n",
       "        vertical-align: top;\n",
       "    }\n",
       "\n",
       "    .dataframe thead th {\n",
       "        text-align: right;\n",
       "    }\n",
       "</style>\n",
       "<table border=\"1\" class=\"dataframe\">\n",
       "  <thead>\n",
       "    <tr style=\"text-align: right;\">\n",
       "      <th></th>\n",
       "      <th>lang</th>\n",
       "      <th>text</th>\n",
       "    </tr>\n",
       "  </thead>\n",
       "  <tbody>\n",
       "    <tr>\n",
       "      <th>1</th>\n",
       "      <td>cmn</td>\n",
       "      <td>我們試試看！</td>\n",
       "    </tr>\n",
       "    <tr>\n",
       "      <th>2</th>\n",
       "      <td>cmn</td>\n",
       "      <td>我该去睡觉了。</td>\n",
       "    </tr>\n",
       "    <tr>\n",
       "      <th>3</th>\n",
       "      <td>cmn</td>\n",
       "      <td>你在干什麼啊？</td>\n",
       "    </tr>\n",
       "    <tr>\n",
       "      <th>4</th>\n",
       "      <td>cmn</td>\n",
       "      <td>這是什麼啊？</td>\n",
       "    </tr>\n",
       "    <tr>\n",
       "      <th>5</th>\n",
       "      <td>cmn</td>\n",
       "      <td>今天是６月１８号，也是Muiriel的生日！</td>\n",
       "    </tr>\n",
       "    <tr>\n",
       "      <th>6</th>\n",
       "      <td>cmn</td>\n",
       "      <td>生日快乐，Muiriel！</td>\n",
       "    </tr>\n",
       "    <tr>\n",
       "      <th>7</th>\n",
       "      <td>cmn</td>\n",
       "      <td>Muiriel现在20岁了。</td>\n",
       "    </tr>\n",
       "    <tr>\n",
       "      <th>8</th>\n",
       "      <td>cmn</td>\n",
       "      <td>密码是\"Muiriel\"。</td>\n",
       "    </tr>\n",
       "    <tr>\n",
       "      <th>9</th>\n",
       "      <td>cmn</td>\n",
       "      <td>我很快就會回來。</td>\n",
       "    </tr>\n",
       "    <tr>\n",
       "      <th>10</th>\n",
       "      <td>cmn</td>\n",
       "      <td>我不知道。</td>\n",
       "    </tr>\n",
       "    <tr>\n",
       "      <th>11</th>\n",
       "      <td>cmn</td>\n",
       "      <td>我不知道應該說什麼才好。</td>\n",
       "    </tr>\n",
       "    <tr>\n",
       "      <th>12</th>\n",
       "      <td>cmn</td>\n",
       "      <td>這個永遠完不了了。</td>\n",
       "    </tr>\n",
       "    <tr>\n",
       "      <th>13</th>\n",
       "      <td>cmn</td>\n",
       "      <td>我只是不知道應該說什麼而已……</td>\n",
       "    </tr>\n",
       "    <tr>\n",
       "      <th>14</th>\n",
       "      <td>cmn</td>\n",
       "      <td>那是一隻有惡意的兔子。</td>\n",
       "    </tr>\n",
       "    <tr>\n",
       "      <th>15</th>\n",
       "      <td>cmn</td>\n",
       "      <td>我以前在山里。</td>\n",
       "    </tr>\n",
       "    <tr>\n",
       "      <th>16</th>\n",
       "      <td>cmn</td>\n",
       "      <td>那是一张近照吗？</td>\n",
       "    </tr>\n",
       "    <tr>\n",
       "      <th>17</th>\n",
       "      <td>cmn</td>\n",
       "      <td>我不知道我有沒有時間。</td>\n",
       "    </tr>\n",
       "    <tr>\n",
       "      <th>18</th>\n",
       "      <td>cmn</td>\n",
       "      <td>剛才我的麥克風沒起作用，不知道為什麼。</td>\n",
       "    </tr>\n",
       "    <tr>\n",
       "      <th>19</th>\n",
       "      <td>cmn</td>\n",
       "      <td>到了最後，大家一定要靠自己學習。</td>\n",
       "    </tr>\n",
       "    <tr>\n",
       "      <th>20</th>\n",
       "      <td>cmn</td>\n",
       "      <td>世界上的教育都讓我失望。</td>\n",
       "    </tr>\n",
       "    <tr>\n",
       "      <th>21</th>\n",
       "      <td>cmn</td>\n",
       "      <td>选择什么是“对”或“错”是一项艰难的任务，我们却必须要完成它。</td>\n",
       "    </tr>\n",
       "    <tr>\n",
       "      <th>22</th>\n",
       "      <td>cmn</td>\n",
       "      <td>這樣做的話什麼都不會改變的。</td>\n",
       "    </tr>\n",
       "    <tr>\n",
       "      <th>23</th>\n",
       "      <td>cmn</td>\n",
       "      <td>這個要三十歐元。</td>\n",
       "    </tr>\n",
       "    <tr>\n",
       "      <th>24</th>\n",
       "      <td>cmn</td>\n",
       "      <td>我一天賺一百歐元。</td>\n",
       "    </tr>\n",
       "    <tr>\n",
       "      <th>25</th>\n",
       "      <td>cmn</td>\n",
       "      <td>也许我会马上放弃然后去睡一觉。</td>\n",
       "    </tr>\n",
       "    <tr>\n",
       "      <th>26</th>\n",
       "      <td>cmn</td>\n",
       "      <td>那是不會發生的。</td>\n",
       "    </tr>\n",
       "    <tr>\n",
       "      <th>27</th>\n",
       "      <td>cmn</td>\n",
       "      <td>我会尽量不打扰你复习。</td>\n",
       "    </tr>\n",
       "    <tr>\n",
       "      <th>28</th>\n",
       "      <td>cmn</td>\n",
       "      <td>不要擔心。</td>\n",
       "    </tr>\n",
       "    <tr>\n",
       "      <th>29</th>\n",
       "      <td>cmn</td>\n",
       "      <td>我很想你。</td>\n",
       "    </tr>\n",
       "    <tr>\n",
       "      <th>30</th>\n",
       "      <td>cmn</td>\n",
       "      <td>我明天回來的時候會跟他們聯絡。</td>\n",
       "    </tr>\n",
       "    <tr>\n",
       "      <th>...</th>\n",
       "      <td>...</td>\n",
       "      <td>...</td>\n",
       "    </tr>\n",
       "    <tr>\n",
       "      <th>7693822</th>\n",
       "      <td>rus</td>\n",
       "      <td>Я никогда не был на подводной лодке.</td>\n",
       "    </tr>\n",
       "    <tr>\n",
       "      <th>7693823</th>\n",
       "      <td>rus</td>\n",
       "      <td>Я никогда не была на подводной лодке.</td>\n",
       "    </tr>\n",
       "    <tr>\n",
       "      <th>7693824</th>\n",
       "      <td>nld</td>\n",
       "      <td>Spaar mij!</td>\n",
       "    </tr>\n",
       "    <tr>\n",
       "      <th>7693825</th>\n",
       "      <td>nld</td>\n",
       "      <td>Kip, alstublieft.</td>\n",
       "    </tr>\n",
       "    <tr>\n",
       "      <th>7693826</th>\n",
       "      <td>nld</td>\n",
       "      <td>Papa zit in bad.</td>\n",
       "    </tr>\n",
       "    <tr>\n",
       "      <th>7693827</th>\n",
       "      <td>rus</td>\n",
       "      <td>Подводная лодка может перемещаться над водой и...</td>\n",
       "    </tr>\n",
       "    <tr>\n",
       "      <th>7693828</th>\n",
       "      <td>nld</td>\n",
       "      <td>Papa is aan het baden.</td>\n",
       "    </tr>\n",
       "    <tr>\n",
       "      <th>7693829</th>\n",
       "      <td>nld</td>\n",
       "      <td>Als God het wil...</td>\n",
       "    </tr>\n",
       "    <tr>\n",
       "      <th>7693830</th>\n",
       "      <td>ukr</td>\n",
       "      <td>Мері грає у футбол.</td>\n",
       "    </tr>\n",
       "    <tr>\n",
       "      <th>7693831</th>\n",
       "      <td>eng</td>\n",
       "      <td>Mary plays football.</td>\n",
       "    </tr>\n",
       "    <tr>\n",
       "      <th>7693832</th>\n",
       "      <td>eng</td>\n",
       "      <td>Mary is playing football.</td>\n",
       "    </tr>\n",
       "    <tr>\n",
       "      <th>7693833</th>\n",
       "      <td>spa</td>\n",
       "      <td>Gracias por señalar lo que es obvio.</td>\n",
       "    </tr>\n",
       "    <tr>\n",
       "      <th>7693834</th>\n",
       "      <td>nld</td>\n",
       "      <td>Wijk achteruit, Satan!</td>\n",
       "    </tr>\n",
       "    <tr>\n",
       "      <th>7693835</th>\n",
       "      <td>nld</td>\n",
       "      <td>Achteruit, Satan!</td>\n",
       "    </tr>\n",
       "    <tr>\n",
       "      <th>7693836</th>\n",
       "      <td>nld</td>\n",
       "      <td>Vraag het Alex.</td>\n",
       "    </tr>\n",
       "    <tr>\n",
       "      <th>7693837</th>\n",
       "      <td>rus</td>\n",
       "      <td>Эта подводная лодка может работать при самых н...</td>\n",
       "    </tr>\n",
       "    <tr>\n",
       "      <th>7693838</th>\n",
       "      <td>eng</td>\n",
       "      <td>Look at me when I'm talking to you.</td>\n",
       "    </tr>\n",
       "    <tr>\n",
       "      <th>7693839</th>\n",
       "      <td>spa</td>\n",
       "      <td>Te voy a ayudar a ahorrar tiempo.</td>\n",
       "    </tr>\n",
       "    <tr>\n",
       "      <th>7693840</th>\n",
       "      <td>spa</td>\n",
       "      <td>Voy a hacerlo luego por la tarde.</td>\n",
       "    </tr>\n",
       "    <tr>\n",
       "      <th>7693841</th>\n",
       "      <td>spa</td>\n",
       "      <td>Sami casi nunca se enferma.</td>\n",
       "    </tr>\n",
       "    <tr>\n",
       "      <th>7693842</th>\n",
       "      <td>spa</td>\n",
       "      <td>No nos es necesario hacerlo.</td>\n",
       "    </tr>\n",
       "    <tr>\n",
       "      <th>7693843</th>\n",
       "      <td>spa</td>\n",
       "      <td>Ella se abrió paso con los codos hasta el tren.</td>\n",
       "    </tr>\n",
       "    <tr>\n",
       "      <th>7693844</th>\n",
       "      <td>spa</td>\n",
       "      <td>Tom dijo que María no creyó que Juan se lo har...</td>\n",
       "    </tr>\n",
       "    <tr>\n",
       "      <th>7693845</th>\n",
       "      <td>spa</td>\n",
       "      <td>Tom dijo que no comprende por qué tú no quiere...</td>\n",
       "    </tr>\n",
       "    <tr>\n",
       "      <th>7693846</th>\n",
       "      <td>spa</td>\n",
       "      <td>Tom sabía que yo estaba avergonzado.</td>\n",
       "    </tr>\n",
       "    <tr>\n",
       "      <th>7693847</th>\n",
       "      <td>spa</td>\n",
       "      <td>Tom dijo que se sintió mal sobre lo que había ...</td>\n",
       "    </tr>\n",
       "    <tr>\n",
       "      <th>7693848</th>\n",
       "      <td>spa</td>\n",
       "      <td>Nos llevará al menos tres horas para hacerlo.</td>\n",
       "    </tr>\n",
       "    <tr>\n",
       "      <th>7693849</th>\n",
       "      <td>spa</td>\n",
       "      <td>No he comido nada todavía.</td>\n",
       "    </tr>\n",
       "    <tr>\n",
       "      <th>7693850</th>\n",
       "      <td>rus</td>\n",
       "      <td>На первом углу поверни, пожалуйста, направо.</td>\n",
       "    </tr>\n",
       "    <tr>\n",
       "      <th>7693851</th>\n",
       "      <td>rus</td>\n",
       "      <td>На первом углу поверните, пожалуйста, направо.</td>\n",
       "    </tr>\n",
       "  </tbody>\n",
       "</table>\n",
       "<p>7304262 rows × 2 columns</p>\n",
       "</div>"
      ],
      "text/plain": [
       "        lang                                               text\n",
       "1        cmn                                             我們試試看！\n",
       "2        cmn                                            我该去睡觉了。\n",
       "3        cmn                                            你在干什麼啊？\n",
       "4        cmn                                             這是什麼啊？\n",
       "5        cmn                             今天是６月１８号，也是Muiriel的生日！\n",
       "6        cmn                                      生日快乐，Muiriel！\n",
       "7        cmn                                     Muiriel现在20岁了。\n",
       "8        cmn                                      密码是\"Muiriel\"。\n",
       "9        cmn                                           我很快就會回來。\n",
       "10       cmn                                              我不知道。\n",
       "11       cmn                                       我不知道應該說什麼才好。\n",
       "12       cmn                                          這個永遠完不了了。\n",
       "13       cmn                                    我只是不知道應該說什麼而已……\n",
       "14       cmn                                        那是一隻有惡意的兔子。\n",
       "15       cmn                                            我以前在山里。\n",
       "16       cmn                                           那是一张近照吗？\n",
       "17       cmn                                        我不知道我有沒有時間。\n",
       "18       cmn                                剛才我的麥克風沒起作用，不知道為什麼。\n",
       "19       cmn                                   到了最後，大家一定要靠自己學習。\n",
       "20       cmn                                       世界上的教育都讓我失望。\n",
       "21       cmn                    选择什么是“对”或“错”是一项艰难的任务，我们却必须要完成它。\n",
       "22       cmn                                     這樣做的話什麼都不會改變的。\n",
       "23       cmn                                           這個要三十歐元。\n",
       "24       cmn                                          我一天賺一百歐元。\n",
       "25       cmn                                    也许我会马上放弃然后去睡一觉。\n",
       "26       cmn                                           那是不會發生的。\n",
       "27       cmn                                        我会尽量不打扰你复习。\n",
       "28       cmn                                              不要擔心。\n",
       "29       cmn                                              我很想你。\n",
       "30       cmn                                    我明天回來的時候會跟他們聯絡。\n",
       "...      ...                                                ...\n",
       "7693822  rus               Я никогда не был на подводной лодке.\n",
       "7693823  rus              Я никогда не была на подводной лодке.\n",
       "7693824  nld                                         Spaar mij!\n",
       "7693825  nld                                  Kip, alstublieft.\n",
       "7693826  nld                                   Papa zit in bad.\n",
       "7693827  rus  Подводная лодка может перемещаться над водой и...\n",
       "7693828  nld                             Papa is aan het baden.\n",
       "7693829  nld                                 Als God het wil...\n",
       "7693830  ukr                                Мері грає у футбол.\n",
       "7693831  eng                               Mary plays football.\n",
       "7693832  eng                          Mary is playing football.\n",
       "7693833  spa               Gracias por señalar lo que es obvio.\n",
       "7693834  nld                             Wijk achteruit, Satan!\n",
       "7693835  nld                                  Achteruit, Satan!\n",
       "7693836  nld                                    Vraag het Alex.\n",
       "7693837  rus  Эта подводная лодка может работать при самых н...\n",
       "7693838  eng                Look at me when I'm talking to you.\n",
       "7693839  spa                  Te voy a ayudar a ahorrar tiempo.\n",
       "7693840  spa                  Voy a hacerlo luego por la tarde.\n",
       "7693841  spa                        Sami casi nunca se enferma.\n",
       "7693842  spa                       No nos es necesario hacerlo.\n",
       "7693843  spa    Ella se abrió paso con los codos hasta el tren.\n",
       "7693844  spa  Tom dijo que María no creyó que Juan se lo har...\n",
       "7693845  spa  Tom dijo que no comprende por qué tú no quiere...\n",
       "7693846  spa               Tom sabía que yo estaba avergonzado.\n",
       "7693847  spa  Tom dijo que se sintió mal sobre lo que había ...\n",
       "7693848  spa      Nos llevará al menos tres horas para hacerlo.\n",
       "7693849  spa                         No he comido nada todavía.\n",
       "7693850  rus       На первом углу поверни, пожалуйста, направо.\n",
       "7693851  rus     На первом углу поверните, пожалуйста, направо.\n",
       "\n",
       "[7304262 rows x 2 columns]"
      ]
     },
     "execution_count": 2,
     "metadata": {},
     "output_type": "execute_result"
    }
   ],
   "source": [
    "import pandas as pd\n",
    "\n",
    "df = pd.read_csv(DATAFILE, sep=\"\\t\", index_col=0, names=[\"lang\", \"text\"])\n",
    "df"
   ]
  },
  {
   "cell_type": "markdown",
   "metadata": {},
   "source": [
    "Como podemos ver, cada registro contiene una frase (columna \"text\") y un indicador del idioma al que pertenece (columna \"lang\"). El indicador de idioma sigue el estándar [ISO 639-3](https://en.wikipedia.org/wiki/List_of_ISO_639-3_codes)."
   ]
  },
  {
   "cell_type": "markdown",
   "metadata": {},
   "source": [
    "Antes de ponernos a trabajar con los datos debemos limpiarlos un poco. La siguiente comprobación nos demuestra que en el indicador de idioma existen valores desconocidos:"
   ]
  },
  {
   "cell_type": "code",
   "execution_count": 3,
   "metadata": {},
   "outputs": [
    {
     "data": {
      "text/plain": [
       "lang    23\n",
       "text     0\n",
       "dtype: int64"
      ]
     },
     "execution_count": 3,
     "metadata": {},
     "output_type": "execute_result"
    }
   ],
   "source": [
    "df.isnull().sum()"
   ]
  },
  {
   "cell_type": "markdown",
   "metadata": {},
   "source": [
    "Podemos eliminar esos registros inválidos con la siguiente instrucción"
   ]
  },
  {
   "cell_type": "code",
   "execution_count": 4,
   "metadata": {},
   "outputs": [],
   "source": [
    "df = df.dropna()"
   ]
  },
  {
   "cell_type": "markdown",
   "metadata": {},
   "source": [
    "Ahora vamos a comprobar qué idiomas hay presentes en los datos. Para ello vamos a utilizar Counter, una estructura que funciona de manera análoga a un diccionario de python, pero que permite llevar la cuenta del número de veces que ha aparecido un elemento."
   ]
  },
  {
   "cell_type": "code",
   "execution_count": 5,
   "metadata": {},
   "outputs": [
    {
     "data": {
      "text/plain": [
       "Counter({'cmn': 59742,\n",
       "         'deu': 452272,\n",
       "         'rus': 661301,\n",
       "         'fra': 372727,\n",
       "         'eng': 1150538,\n",
       "         'jpn': 186256,\n",
       "         'spa': 295985,\n",
       "         'ita': 705053,\n",
       "         'kor': 3758,\n",
       "         'vie': 10361,\n",
       "         'nld': 84053,\n",
       "         'epo': 583566,\n",
       "         'tur': 659351,\n",
       "         'por': 315720,\n",
       "         'heb': 189925,\n",
       "         'hun': 233759,\n",
       "         'ell': 27755,\n",
       "         'ind': 12012,\n",
       "         'ara': 31205,\n",
       "         'arz': 609,\n",
       "         'fin': 87428,\n",
       "         'bul': 24162,\n",
       "         'yue': 5718,\n",
       "         'swe': 33808,\n",
       "         'ukr': 131788,\n",
       "         'bel': 8220,\n",
       "         'que': 397,\n",
       "         'ces': 28239,\n",
       "         'swh': 443,\n",
       "         'nno': 1162,\n",
       "         'wuu': 4311,\n",
       "         'nob': 13320,\n",
       "         'zsm': 2291,\n",
       "         'est': 2953,\n",
       "         'kat': 901,\n",
       "         'pol': 96243,\n",
       "         'lat': 30711,\n",
       "         'urd': 1930,\n",
       "         'sqi': 1270,\n",
       "         'isl': 11064,\n",
       "         'fry': 200,\n",
       "         'afr': 3669,\n",
       "         'ron': 17568,\n",
       "         'fao': 292,\n",
       "         'san': 142,\n",
       "         'bre': 7100,\n",
       "         'tat': 13370,\n",
       "         'yid': 981,\n",
       "         'uig': 7587,\n",
       "         'uzb': 651,\n",
       "         'srp': 30351,\n",
       "         'qya': 123,\n",
       "         'dan': 38626,\n",
       "         'pes': 18625,\n",
       "         'slk': 3711,\n",
       "         'eus': 6062,\n",
       "         'cycl': 37,\n",
       "         'acm': 48,\n",
       "         'tgl': 13274,\n",
       "         'lvs': 1875,\n",
       "         'kaz': 2539,\n",
       "         'hye': 2221,\n",
       "         'hin': 11688,\n",
       "         'lit': 26373,\n",
       "         'ben': 4683,\n",
       "         'cat': 5976,\n",
       "         'bos': 429,\n",
       "         'hrv': 5049,\n",
       "         'tha': 604,\n",
       "         'orv': 1306,\n",
       "         'cha': 182,\n",
       "         'mon': 557,\n",
       "         'lzh': 1813,\n",
       "         'scn': 18,\n",
       "         'gle': 1995,\n",
       "         'mkd': 77647,\n",
       "         'slv': 994,\n",
       "         'frm': 20,\n",
       "         'glg': 4356,\n",
       "         'vol': 2538,\n",
       "         'ain': 22,\n",
       "         'jbo': 15443,\n",
       "         'toki': 25886,\n",
       "         'ina': 22639,\n",
       "         'nds': 17575,\n",
       "         'mal': 736,\n",
       "         'tlh': 17019,\n",
       "         'roh': 21,\n",
       "         'ltz': 117,\n",
       "         'oss': 232,\n",
       "         'ido': 5063,\n",
       "         'gla': 947,\n",
       "         'mlt': 193,\n",
       "         'sco': 29,\n",
       "         'ast': 172,\n",
       "         'jav': 295,\n",
       "         'oci': 5584,\n",
       "         'ile': 6209,\n",
       "         'xal': 869,\n",
       "         'tel': 248,\n",
       "         'sjn': 38,\n",
       "         'nov': 309,\n",
       "         'khm': 1502,\n",
       "         'tpi': 93,\n",
       "         'ang': 144,\n",
       "         'aze': 4891,\n",
       "         'tgk': 63,\n",
       "         'tuk': 291,\n",
       "         'chv': 1524,\n",
       "         'hsb': 775,\n",
       "         'dsb': 758,\n",
       "         'bod': 40,\n",
       "         'sme': 65,\n",
       "         'cym': 639,\n",
       "         'mri': 367,\n",
       "         'ksh': 27,\n",
       "         'kur': 618,\n",
       "         'ewe': 26,\n",
       "         'kab': 61254,\n",
       "         'ber': 168951,\n",
       "         'tpw': 559,\n",
       "         'udm': 67,\n",
       "         'lld': 84,\n",
       "         'pms': 822,\n",
       "         'lad': 63,\n",
       "         'grn': 1116,\n",
       "         'mlg': 39,\n",
       "         'xho': 152,\n",
       "         'pnb': 35,\n",
       "         'grc': 720,\n",
       "         'hat': 45,\n",
       "         'lao': 38,\n",
       "         'npi': 119,\n",
       "         'cor': 3864,\n",
       "         'nah': 209,\n",
       "         'avk': 3896,\n",
       "         'mar': 47479,\n",
       "         'guj': 168,\n",
       "         'pan': 196,\n",
       "         'kir': 110,\n",
       "         'myv': 23,\n",
       "         'prg': 838,\n",
       "         'sux': 152,\n",
       "         'crs': 1,\n",
       "         'ckt': 260,\n",
       "         'bak': 182,\n",
       "         'zlm': 92,\n",
       "         'hil': 43,\n",
       "         'cbk': 2561,\n",
       "         'chr': 24,\n",
       "         'nav': 84,\n",
       "         'lkt': 21,\n",
       "         'enm': 18,\n",
       "         'arq': 1170,\n",
       "         'lin': 40,\n",
       "         'abk': 26,\n",
       "         'pcd': 105,\n",
       "         'rom': 784,\n",
       "         'gsw': 159,\n",
       "         'tam': 322,\n",
       "         'zul': 37,\n",
       "         'awa': 253,\n",
       "         'wln': 52,\n",
       "         'amh': 193,\n",
       "         'bar': 136,\n",
       "         'ota': 408,\n",
       "         'mhr': 4297,\n",
       "         'bho': 40,\n",
       "         'mrj': 83,\n",
       "         'osx': 3,\n",
       "         'pfl': 3,\n",
       "         'mgm': 60,\n",
       "         'sna': 42,\n",
       "         'mah': 27,\n",
       "         'hau': 60,\n",
       "         'kan': 166,\n",
       "         'nog': 114,\n",
       "         'sin': 44,\n",
       "         'glv': 6,\n",
       "         'dng': 30,\n",
       "         'kal': 82,\n",
       "         'liv': 32,\n",
       "         'vro': 13,\n",
       "         'apc': 35,\n",
       "         'jdt': 9,\n",
       "         'fur': 11,\n",
       "         'che': 28,\n",
       "         'haw': 151,\n",
       "         'yor': 35,\n",
       "         'crh': 292,\n",
       "         'pdc': 58,\n",
       "         'ppl': 59,\n",
       "         'kin': 25,\n",
       "         'shs': 97,\n",
       "         'mnw': 9,\n",
       "         'tet': 51,\n",
       "         'sah': 921,\n",
       "         'kum': 106,\n",
       "         'ngt': 20,\n",
       "         'nya': 23,\n",
       "         'pus': 16,\n",
       "         'hif': 34,\n",
       "         'mya': 98,\n",
       "         'moh': 15,\n",
       "         'wol': 27,\n",
       "         'tir': 82,\n",
       "         'ton': 17,\n",
       "         'lzz': 1,\n",
       "         'oar': 4,\n",
       "         'lug': 2,\n",
       "         'brx': 11,\n",
       "         'non': 15,\n",
       "         'mww': 82,\n",
       "         'hak': 3,\n",
       "         'nlv': 15,\n",
       "         'ngu': 43,\n",
       "         'bua': 278,\n",
       "         'aym': 2,\n",
       "         'vec': 16,\n",
       "         'ibo': 21,\n",
       "         'tkl': 1,\n",
       "         'bam': 13,\n",
       "         'kha': 980,\n",
       "         'ceb': 1429,\n",
       "         'lou': 1,\n",
       "         'fuc': 7,\n",
       "         'smo': 75,\n",
       "         'gag': 1,\n",
       "         'lfn': 7865,\n",
       "         'arg': 19,\n",
       "         'umb': 30,\n",
       "         'tyv': 3,\n",
       "         'kjh': 35,\n",
       "         'oji': 1,\n",
       "         'cyo': 1,\n",
       "         'urh': 1,\n",
       "         'kzj': 1888,\n",
       "         'pam': 1482,\n",
       "         'srd': 14,\n",
       "         'lmo': 15,\n",
       "         'swg': 561,\n",
       "         'mdf': 7,\n",
       "         'gil': 13,\n",
       "         'snd': 3,\n",
       "         'tso': 3,\n",
       "         'sot': 2,\n",
       "         'zza': 816,\n",
       "         'tsn': 2,\n",
       "         'pau': 33,\n",
       "         'som': 12,\n",
       "         'egl': 144,\n",
       "         'ady': 31,\n",
       "         'asm': 41,\n",
       "         'ori': 2,\n",
       "         'dtp': 2479,\n",
       "         'cho': 98,\n",
       "         'max': 427,\n",
       "         'kam': 10,\n",
       "         'niu': 31,\n",
       "         'sag': 8,\n",
       "         'ilo': 2453,\n",
       "         'kaa': 2,\n",
       "         'fuv': 35,\n",
       "         'nch': 39,\n",
       "         'hoc': 651,\n",
       "         'iba': 41,\n",
       "         'gbm': 36,\n",
       "         'sun': 16,\n",
       "         'war': 2024,\n",
       "         'mvv': 9,\n",
       "         'pap': 67,\n",
       "         'ary': 53,\n",
       "         'kxi': 1,\n",
       "         'csb': 879,\n",
       "         'pag': 55,\n",
       "         'cos': 3,\n",
       "         'rif': 56,\n",
       "         'kek': 24,\n",
       "         'krc': 45,\n",
       "         'aii': 2,\n",
       "         'ban': 3,\n",
       "         'ssw': 1,\n",
       "         'tvl': 13,\n",
       "         'mfe': 6,\n",
       "         'tah': 29,\n",
       "         'bvy': 56,\n",
       "         'bcl': 4,\n",
       "         'hnj': 4,\n",
       "         'nau': 11,\n",
       "         'nst': 793,\n",
       "         'afb': 69,\n",
       "         'quc': 7,\n",
       "         'min': 120,\n",
       "         'tmw': 6,\n",
       "         'mad': 7,\n",
       "         'bjn': 5,\n",
       "         'mai': 8,\n",
       "         'cjy': 8,\n",
       "         'got': 99,\n",
       "         'hsn': 4,\n",
       "         'gan': 3,\n",
       "         'tzl': 185,\n",
       "         'dws': 57,\n",
       "         'ldn': 91,\n",
       "         'afh': 80,\n",
       "         'sgs': 47,\n",
       "         'krl': 130,\n",
       "         'vep': 10,\n",
       "         'rue': 116,\n",
       "         'tly': 66,\n",
       "         'mic': 8,\n",
       "         'ext': 65,\n",
       "         'izh': 6,\n",
       "         'sma': 46,\n",
       "         'jam': 27,\n",
       "         'cmo': 85,\n",
       "         'mwl': 3,\n",
       "         'kpv': 45,\n",
       "         'koi': 44,\n",
       "         'ike': 46,\n",
       "         '\\\\N': 570,\n",
       "         'mnc': 1,\n",
       "         'aoz': 24,\n",
       "         'otk': 5,\n",
       "         'kas': 49,\n",
       "         'aln': 28,\n",
       "         'akl': 27,\n",
       "         'run': 918,\n",
       "         'shy': 201,\n",
       "         'fkv': 50,\n",
       "         'fij': 38})"
      ]
     },
     "execution_count": 5,
     "metadata": {},
     "output_type": "execute_result"
    }
   ],
   "source": [
    "from collections import Counter\n",
    "\n",
    "langcounter = Counter(df[\"lang\"])\n",
    "langcounter"
   ]
  },
  {
   "cell_type": "markdown",
   "metadata": {},
   "source": [
    "¡Son 331 idiomas! Para centrar este ejercicio vamos a focalizarnos en los 20 idiomas más representativos. Podemos obtener 20 los elementos más frecuentes de un Counter de la siguiente manera:"
   ]
  },
  {
   "cell_type": "code",
   "execution_count": 6,
   "metadata": {},
   "outputs": [
    {
     "data": {
      "text/plain": [
       "[('eng', 1150538),\n",
       " ('ita', 705053),\n",
       " ('rus', 661301),\n",
       " ('tur', 659351),\n",
       " ('epo', 583566),\n",
       " ('deu', 452272),\n",
       " ('fra', 372727),\n",
       " ('por', 315720),\n",
       " ('spa', 295985),\n",
       " ('hun', 233759),\n",
       " ('heb', 189925),\n",
       " ('jpn', 186256),\n",
       " ('ber', 168951),\n",
       " ('ukr', 131788),\n",
       " ('pol', 96243),\n",
       " ('fin', 87428),\n",
       " ('nld', 84053),\n",
       " ('mkd', 77647),\n",
       " ('kab', 61254),\n",
       " ('cmn', 59742)]"
      ]
     },
     "execution_count": 6,
     "metadata": {},
     "output_type": "execute_result"
    }
   ],
   "source": [
    "langcounter.most_common(20)"
   ]
  },
  {
   "cell_type": "markdown",
   "metadata": {},
   "source": [
    "Esto nos devuelve los 20 elementos más frecuentes, junto con sus frecuencias de aparición. Entre los idiomas más frecuentes encontramos el inglés, italiano, ruso, turco, alemán, español, hebreo, japonés, finlandes, chino mandarín, ..."
   ]
  },
  {
   "cell_type": "markdown",
   "metadata": {},
   "source": [
    "<table>\n",
    " <tr>\n",
    "  <tr><td width=\"80\"><img src=\"img/question.png\" style=\"width:auto;height:auto\"></td><td style=\"text-align:left\">\n",
    "      Crea una variable <b>commonlangs</b> que sea una lista con los nombres de esos 20 idiomas más frecuentes. Tendrás que tomar la salida del método most_common y quedarte solo con los nombres de los idiomas.\n",
    "  </td>\n",
    " </tr> \n",
    "</table>"
   ]
  },
  {
   "cell_type": "code",
   "execution_count": 7,
   "metadata": {},
   "outputs": [],
   "source": [
    "####### INSERT YOUR CODE HERE\n",
    "commonlangs = [lang for lang, count in langcounter.most_common(20)]"
   ]
  },
  {
   "cell_type": "markdown",
   "metadata": {},
   "source": [
    "Si todo es correcto, la siguiente línea debería filtrar los datos para quedarnos solo con las frases de esos 20 idiomas."
   ]
  },
  {
   "cell_type": "code",
   "execution_count": 8,
   "metadata": {},
   "outputs": [
    {
     "data": {
      "text/html": [
       "<div>\n",
       "<style scoped>\n",
       "    .dataframe tbody tr th:only-of-type {\n",
       "        vertical-align: middle;\n",
       "    }\n",
       "\n",
       "    .dataframe tbody tr th {\n",
       "        vertical-align: top;\n",
       "    }\n",
       "\n",
       "    .dataframe thead th {\n",
       "        text-align: right;\n",
       "    }\n",
       "</style>\n",
       "<table border=\"1\" class=\"dataframe\">\n",
       "  <thead>\n",
       "    <tr style=\"text-align: right;\">\n",
       "      <th></th>\n",
       "      <th>lang</th>\n",
       "      <th>text</th>\n",
       "    </tr>\n",
       "  </thead>\n",
       "  <tbody>\n",
       "    <tr>\n",
       "      <th>1</th>\n",
       "      <td>cmn</td>\n",
       "      <td>我們試試看！</td>\n",
       "    </tr>\n",
       "    <tr>\n",
       "      <th>2</th>\n",
       "      <td>cmn</td>\n",
       "      <td>我该去睡觉了。</td>\n",
       "    </tr>\n",
       "    <tr>\n",
       "      <th>3</th>\n",
       "      <td>cmn</td>\n",
       "      <td>你在干什麼啊？</td>\n",
       "    </tr>\n",
       "    <tr>\n",
       "      <th>4</th>\n",
       "      <td>cmn</td>\n",
       "      <td>這是什麼啊？</td>\n",
       "    </tr>\n",
       "    <tr>\n",
       "      <th>5</th>\n",
       "      <td>cmn</td>\n",
       "      <td>今天是６月１８号，也是Muiriel的生日！</td>\n",
       "    </tr>\n",
       "    <tr>\n",
       "      <th>6</th>\n",
       "      <td>cmn</td>\n",
       "      <td>生日快乐，Muiriel！</td>\n",
       "    </tr>\n",
       "    <tr>\n",
       "      <th>7</th>\n",
       "      <td>cmn</td>\n",
       "      <td>Muiriel现在20岁了。</td>\n",
       "    </tr>\n",
       "    <tr>\n",
       "      <th>8</th>\n",
       "      <td>cmn</td>\n",
       "      <td>密码是\"Muiriel\"。</td>\n",
       "    </tr>\n",
       "    <tr>\n",
       "      <th>9</th>\n",
       "      <td>cmn</td>\n",
       "      <td>我很快就會回來。</td>\n",
       "    </tr>\n",
       "    <tr>\n",
       "      <th>10</th>\n",
       "      <td>cmn</td>\n",
       "      <td>我不知道。</td>\n",
       "    </tr>\n",
       "    <tr>\n",
       "      <th>11</th>\n",
       "      <td>cmn</td>\n",
       "      <td>我不知道應該說什麼才好。</td>\n",
       "    </tr>\n",
       "    <tr>\n",
       "      <th>12</th>\n",
       "      <td>cmn</td>\n",
       "      <td>這個永遠完不了了。</td>\n",
       "    </tr>\n",
       "    <tr>\n",
       "      <th>13</th>\n",
       "      <td>cmn</td>\n",
       "      <td>我只是不知道應該說什麼而已……</td>\n",
       "    </tr>\n",
       "    <tr>\n",
       "      <th>14</th>\n",
       "      <td>cmn</td>\n",
       "      <td>那是一隻有惡意的兔子。</td>\n",
       "    </tr>\n",
       "    <tr>\n",
       "      <th>15</th>\n",
       "      <td>cmn</td>\n",
       "      <td>我以前在山里。</td>\n",
       "    </tr>\n",
       "    <tr>\n",
       "      <th>16</th>\n",
       "      <td>cmn</td>\n",
       "      <td>那是一张近照吗？</td>\n",
       "    </tr>\n",
       "    <tr>\n",
       "      <th>17</th>\n",
       "      <td>cmn</td>\n",
       "      <td>我不知道我有沒有時間。</td>\n",
       "    </tr>\n",
       "    <tr>\n",
       "      <th>18</th>\n",
       "      <td>cmn</td>\n",
       "      <td>剛才我的麥克風沒起作用，不知道為什麼。</td>\n",
       "    </tr>\n",
       "    <tr>\n",
       "      <th>19</th>\n",
       "      <td>cmn</td>\n",
       "      <td>到了最後，大家一定要靠自己學習。</td>\n",
       "    </tr>\n",
       "    <tr>\n",
       "      <th>20</th>\n",
       "      <td>cmn</td>\n",
       "      <td>世界上的教育都讓我失望。</td>\n",
       "    </tr>\n",
       "    <tr>\n",
       "      <th>21</th>\n",
       "      <td>cmn</td>\n",
       "      <td>选择什么是“对”或“错”是一项艰难的任务，我们却必须要完成它。</td>\n",
       "    </tr>\n",
       "    <tr>\n",
       "      <th>22</th>\n",
       "      <td>cmn</td>\n",
       "      <td>這樣做的話什麼都不會改變的。</td>\n",
       "    </tr>\n",
       "    <tr>\n",
       "      <th>23</th>\n",
       "      <td>cmn</td>\n",
       "      <td>這個要三十歐元。</td>\n",
       "    </tr>\n",
       "    <tr>\n",
       "      <th>24</th>\n",
       "      <td>cmn</td>\n",
       "      <td>我一天賺一百歐元。</td>\n",
       "    </tr>\n",
       "    <tr>\n",
       "      <th>25</th>\n",
       "      <td>cmn</td>\n",
       "      <td>也许我会马上放弃然后去睡一觉。</td>\n",
       "    </tr>\n",
       "    <tr>\n",
       "      <th>26</th>\n",
       "      <td>cmn</td>\n",
       "      <td>那是不會發生的。</td>\n",
       "    </tr>\n",
       "    <tr>\n",
       "      <th>27</th>\n",
       "      <td>cmn</td>\n",
       "      <td>我会尽量不打扰你复习。</td>\n",
       "    </tr>\n",
       "    <tr>\n",
       "      <th>28</th>\n",
       "      <td>cmn</td>\n",
       "      <td>不要擔心。</td>\n",
       "    </tr>\n",
       "    <tr>\n",
       "      <th>29</th>\n",
       "      <td>cmn</td>\n",
       "      <td>我很想你。</td>\n",
       "    </tr>\n",
       "    <tr>\n",
       "      <th>30</th>\n",
       "      <td>cmn</td>\n",
       "      <td>我明天回來的時候會跟他們聯絡。</td>\n",
       "    </tr>\n",
       "    <tr>\n",
       "      <th>...</th>\n",
       "      <td>...</td>\n",
       "      <td>...</td>\n",
       "    </tr>\n",
       "    <tr>\n",
       "      <th>7693822</th>\n",
       "      <td>rus</td>\n",
       "      <td>Я никогда не был на подводной лодке.</td>\n",
       "    </tr>\n",
       "    <tr>\n",
       "      <th>7693823</th>\n",
       "      <td>rus</td>\n",
       "      <td>Я никогда не была на подводной лодке.</td>\n",
       "    </tr>\n",
       "    <tr>\n",
       "      <th>7693824</th>\n",
       "      <td>nld</td>\n",
       "      <td>Spaar mij!</td>\n",
       "    </tr>\n",
       "    <tr>\n",
       "      <th>7693825</th>\n",
       "      <td>nld</td>\n",
       "      <td>Kip, alstublieft.</td>\n",
       "    </tr>\n",
       "    <tr>\n",
       "      <th>7693826</th>\n",
       "      <td>nld</td>\n",
       "      <td>Papa zit in bad.</td>\n",
       "    </tr>\n",
       "    <tr>\n",
       "      <th>7693827</th>\n",
       "      <td>rus</td>\n",
       "      <td>Подводная лодка может перемещаться над водой и...</td>\n",
       "    </tr>\n",
       "    <tr>\n",
       "      <th>7693828</th>\n",
       "      <td>nld</td>\n",
       "      <td>Papa is aan het baden.</td>\n",
       "    </tr>\n",
       "    <tr>\n",
       "      <th>7693829</th>\n",
       "      <td>nld</td>\n",
       "      <td>Als God het wil...</td>\n",
       "    </tr>\n",
       "    <tr>\n",
       "      <th>7693830</th>\n",
       "      <td>ukr</td>\n",
       "      <td>Мері грає у футбол.</td>\n",
       "    </tr>\n",
       "    <tr>\n",
       "      <th>7693831</th>\n",
       "      <td>eng</td>\n",
       "      <td>Mary plays football.</td>\n",
       "    </tr>\n",
       "    <tr>\n",
       "      <th>7693832</th>\n",
       "      <td>eng</td>\n",
       "      <td>Mary is playing football.</td>\n",
       "    </tr>\n",
       "    <tr>\n",
       "      <th>7693833</th>\n",
       "      <td>spa</td>\n",
       "      <td>Gracias por señalar lo que es obvio.</td>\n",
       "    </tr>\n",
       "    <tr>\n",
       "      <th>7693834</th>\n",
       "      <td>nld</td>\n",
       "      <td>Wijk achteruit, Satan!</td>\n",
       "    </tr>\n",
       "    <tr>\n",
       "      <th>7693835</th>\n",
       "      <td>nld</td>\n",
       "      <td>Achteruit, Satan!</td>\n",
       "    </tr>\n",
       "    <tr>\n",
       "      <th>7693836</th>\n",
       "      <td>nld</td>\n",
       "      <td>Vraag het Alex.</td>\n",
       "    </tr>\n",
       "    <tr>\n",
       "      <th>7693837</th>\n",
       "      <td>rus</td>\n",
       "      <td>Эта подводная лодка может работать при самых н...</td>\n",
       "    </tr>\n",
       "    <tr>\n",
       "      <th>7693838</th>\n",
       "      <td>eng</td>\n",
       "      <td>Look at me when I'm talking to you.</td>\n",
       "    </tr>\n",
       "    <tr>\n",
       "      <th>7693839</th>\n",
       "      <td>spa</td>\n",
       "      <td>Te voy a ayudar a ahorrar tiempo.</td>\n",
       "    </tr>\n",
       "    <tr>\n",
       "      <th>7693840</th>\n",
       "      <td>spa</td>\n",
       "      <td>Voy a hacerlo luego por la tarde.</td>\n",
       "    </tr>\n",
       "    <tr>\n",
       "      <th>7693841</th>\n",
       "      <td>spa</td>\n",
       "      <td>Sami casi nunca se enferma.</td>\n",
       "    </tr>\n",
       "    <tr>\n",
       "      <th>7693842</th>\n",
       "      <td>spa</td>\n",
       "      <td>No nos es necesario hacerlo.</td>\n",
       "    </tr>\n",
       "    <tr>\n",
       "      <th>7693843</th>\n",
       "      <td>spa</td>\n",
       "      <td>Ella se abrió paso con los codos hasta el tren.</td>\n",
       "    </tr>\n",
       "    <tr>\n",
       "      <th>7693844</th>\n",
       "      <td>spa</td>\n",
       "      <td>Tom dijo que María no creyó que Juan se lo har...</td>\n",
       "    </tr>\n",
       "    <tr>\n",
       "      <th>7693845</th>\n",
       "      <td>spa</td>\n",
       "      <td>Tom dijo que no comprende por qué tú no quiere...</td>\n",
       "    </tr>\n",
       "    <tr>\n",
       "      <th>7693846</th>\n",
       "      <td>spa</td>\n",
       "      <td>Tom sabía que yo estaba avergonzado.</td>\n",
       "    </tr>\n",
       "    <tr>\n",
       "      <th>7693847</th>\n",
       "      <td>spa</td>\n",
       "      <td>Tom dijo que se sintió mal sobre lo que había ...</td>\n",
       "    </tr>\n",
       "    <tr>\n",
       "      <th>7693848</th>\n",
       "      <td>spa</td>\n",
       "      <td>Nos llevará al menos tres horas para hacerlo.</td>\n",
       "    </tr>\n",
       "    <tr>\n",
       "      <th>7693849</th>\n",
       "      <td>spa</td>\n",
       "      <td>No he comido nada todavía.</td>\n",
       "    </tr>\n",
       "    <tr>\n",
       "      <th>7693850</th>\n",
       "      <td>rus</td>\n",
       "      <td>На первом углу поверни, пожалуйста, направо.</td>\n",
       "    </tr>\n",
       "    <tr>\n",
       "      <th>7693851</th>\n",
       "      <td>rus</td>\n",
       "      <td>На первом углу поверните, пожалуйста, направо.</td>\n",
       "    </tr>\n",
       "  </tbody>\n",
       "</table>\n",
       "<p>6573559 rows × 2 columns</p>\n",
       "</div>"
      ],
      "text/plain": [
       "        lang                                               text\n",
       "1        cmn                                             我們試試看！\n",
       "2        cmn                                            我该去睡觉了。\n",
       "3        cmn                                            你在干什麼啊？\n",
       "4        cmn                                             這是什麼啊？\n",
       "5        cmn                             今天是６月１８号，也是Muiriel的生日！\n",
       "6        cmn                                      生日快乐，Muiriel！\n",
       "7        cmn                                     Muiriel现在20岁了。\n",
       "8        cmn                                      密码是\"Muiriel\"。\n",
       "9        cmn                                           我很快就會回來。\n",
       "10       cmn                                              我不知道。\n",
       "11       cmn                                       我不知道應該說什麼才好。\n",
       "12       cmn                                          這個永遠完不了了。\n",
       "13       cmn                                    我只是不知道應該說什麼而已……\n",
       "14       cmn                                        那是一隻有惡意的兔子。\n",
       "15       cmn                                            我以前在山里。\n",
       "16       cmn                                           那是一张近照吗？\n",
       "17       cmn                                        我不知道我有沒有時間。\n",
       "18       cmn                                剛才我的麥克風沒起作用，不知道為什麼。\n",
       "19       cmn                                   到了最後，大家一定要靠自己學習。\n",
       "20       cmn                                       世界上的教育都讓我失望。\n",
       "21       cmn                    选择什么是“对”或“错”是一项艰难的任务，我们却必须要完成它。\n",
       "22       cmn                                     這樣做的話什麼都不會改變的。\n",
       "23       cmn                                           這個要三十歐元。\n",
       "24       cmn                                          我一天賺一百歐元。\n",
       "25       cmn                                    也许我会马上放弃然后去睡一觉。\n",
       "26       cmn                                           那是不會發生的。\n",
       "27       cmn                                        我会尽量不打扰你复习。\n",
       "28       cmn                                              不要擔心。\n",
       "29       cmn                                              我很想你。\n",
       "30       cmn                                    我明天回來的時候會跟他們聯絡。\n",
       "...      ...                                                ...\n",
       "7693822  rus               Я никогда не был на подводной лодке.\n",
       "7693823  rus              Я никогда не была на подводной лодке.\n",
       "7693824  nld                                         Spaar mij!\n",
       "7693825  nld                                  Kip, alstublieft.\n",
       "7693826  nld                                   Papa zit in bad.\n",
       "7693827  rus  Подводная лодка может перемещаться над водой и...\n",
       "7693828  nld                             Papa is aan het baden.\n",
       "7693829  nld                                 Als God het wil...\n",
       "7693830  ukr                                Мері грає у футбол.\n",
       "7693831  eng                               Mary plays football.\n",
       "7693832  eng                          Mary is playing football.\n",
       "7693833  spa               Gracias por señalar lo que es obvio.\n",
       "7693834  nld                             Wijk achteruit, Satan!\n",
       "7693835  nld                                  Achteruit, Satan!\n",
       "7693836  nld                                    Vraag het Alex.\n",
       "7693837  rus  Эта подводная лодка может работать при самых н...\n",
       "7693838  eng                Look at me when I'm talking to you.\n",
       "7693839  spa                  Te voy a ayudar a ahorrar tiempo.\n",
       "7693840  spa                  Voy a hacerlo luego por la tarde.\n",
       "7693841  spa                        Sami casi nunca se enferma.\n",
       "7693842  spa                       No nos es necesario hacerlo.\n",
       "7693843  spa    Ella se abrió paso con los codos hasta el tren.\n",
       "7693844  spa  Tom dijo que María no creyó que Juan se lo har...\n",
       "7693845  spa  Tom dijo que no comprende por qué tú no quiere...\n",
       "7693846  spa               Tom sabía que yo estaba avergonzado.\n",
       "7693847  spa  Tom dijo que se sintió mal sobre lo que había ...\n",
       "7693848  spa      Nos llevará al menos tres horas para hacerlo.\n",
       "7693849  spa                         No he comido nada todavía.\n",
       "7693850  rus       На первом углу поверни, пожалуйста, направо.\n",
       "7693851  rus     На первом углу поверните, пожалуйста, направо.\n",
       "\n",
       "[6573559 rows x 2 columns]"
      ]
     },
     "execution_count": 8,
     "metadata": {},
     "output_type": "execute_result"
    }
   ],
   "source": [
    "df = df[df[\"lang\"].isin(commonlangs)]\n",
    "df"
   ]
  },
  {
   "cell_type": "markdown",
   "metadata": {},
   "source": [
    "Ahora que hemos limpiado los datos, vamos a separar las variables de entrada (texto) de las de salida (idiomas). Para poder introducir las etiquetas de idioma en el modelo tendremos que codificarlas de forma numérica: para ello usaremos LabelEncoder de scikit-learn:"
   ]
  },
  {
   "cell_type": "code",
   "execution_count": 9,
   "metadata": {},
   "outputs": [],
   "source": [
    "from sklearn.preprocessing import LabelEncoder\n",
    "\n",
    "X = df[\"text\"]\n",
    "labelencoder = LabelEncoder().fit(df[\"lang\"])\n",
    "y = labelencoder.transform(df[\"lang\"])"
   ]
  },
  {
   "cell_type": "markdown",
   "metadata": {},
   "source": [
    "A continuación vamos a separar los datos en un conjunto para entrenar el modelo y otro para hacer las predicciones:"
   ]
  },
  {
   "cell_type": "code",
   "execution_count": 10,
   "metadata": {},
   "outputs": [],
   "source": [
    "from sklearn.model_selection import train_test_split\n",
    "\n",
    "X_train, X_test, y_train, y_test = train_test_split(X, y)"
   ]
  },
  {
   "cell_type": "markdown",
   "metadata": {},
   "source": [
    "Con esto tenemos todo listo para construir el modelo."
   ]
  },
  {
   "cell_type": "markdown",
   "metadata": {},
   "source": [
    "## Modelo de uni-gramas"
   ]
  },
  {
   "cell_type": "markdown",
   "metadata": {},
   "source": [
    "Para empezar vamos a construir un modelo que simplemente tenga en cuenta el tipo de caracteres que aparecen en el texto para tratar de determinar el idioma. Esto significa que vamos a montar un proceso que convierta un texto dado en un vector de frecuencia de caracteres, para luego poder aplicar un sistema de aprendizaje automático sobre los vectores que obtengamos. Esta transformación puede hacerse muy fácilmente empleando la clase CountVectorizer de paquete scikit-learn:"
   ]
  },
  {
   "cell_type": "code",
   "execution_count": 11,
   "metadata": {},
   "outputs": [],
   "source": [
    "from sklearn.feature_extraction.text import CountVectorizer"
   ]
  },
  {
   "cell_type": "markdown",
   "metadata": {
    "collapsed": true
   },
   "source": [
    "Esta clase nos da funcionalidad para tomar un listado de textos y convertirlos en una representación numérica. Podemos configurar cómo va a realizarse esta conversión mediante diferentes parámetros a la hora de instancia un <a href=\"http://scikit-learn.org/stable/modules/generated/sklearn.feature_extraction.text.CountVectorizer.html\">CountVectorizer</a>:\n",
    "\n",
    "* **analyzer**: tipo de elementos del texto que vamos a contar para generar la representación vectorial\n",
    "    * *word*: conteo de palabras o n-gramas de palabras\n",
    "    * *char*: conteo de caracteres o n-gramas de caracteres\n",
    "    * *char_wb*: conteo de caracters o n-gramas de caracteres dentro de cada palabra\n",
    "* **ngram_range**: tupla tipo (n, m) que indica que rango de n-gramas vamos a construir. Con (1, 1) tendremos unigramas, mientras que con (1, 3) contaremos desde unigramas hasta trigramas.\n",
    "* **min_df**: número (o fracción) mínimo de textos en los que tiene que aparecer un elemento para considerarlo en la cuenta. Con esto podemos obviar palabras o caracteres que aparezcan muy poco y por tanto no sean relevantes.\n",
    "* **max_df**: número (o fracción) máximo de textos en los que tiene que aparecer un elemento para considerarlo en la cuenta. Con esto podemos obviar palabras o caracteres que aparezcan en casi todos los textos, y por tanto no sean discriminativos.\n",
    "* **binary**: hacer cuentas binarias (True) al estilo bag-of-words o hacer cuentas reales de elementos (False)\n",
    "* **lowercase**: convertir automáticamente todos los textos a minúsculas (True) o no (False)\n",
    "\n",
    "Para el caso que nos ocupa queremos crear un CountVectorizer que analize unigramas de caracteres, lo cual se conseguiría como"
   ]
  },
  {
   "cell_type": "code",
   "execution_count": 12,
   "metadata": {},
   "outputs": [],
   "source": [
    "vectorizadorejemplo = CountVectorizer(analyzer = \"char\", ngram_range = (1,1))"
   ]
  },
  {
   "cell_type": "markdown",
   "metadata": {},
   "source": [
    "Una vez construído podemos convertir una lista de textos a vectores usando el método **fit_transform**:"
   ]
  },
  {
   "cell_type": "code",
   "execution_count": 13,
   "metadata": {},
   "outputs": [
    {
     "data": {
      "text/plain": [
       "<3x16 sparse matrix of type '<class 'numpy.int64'>'\n",
       "\twith 29 stored elements in Compressed Sparse Row format>"
      ]
     },
     "execution_count": 13,
     "metadata": {},
     "output_type": "execute_result"
    }
   ],
   "source": [
    "ejemplos = [\n",
    "    \"The cat sat on the mat\",\n",
    "    \"The dog barked at the cat\",\n",
    "    \"Dog days\"\n",
    "]\n",
    "transformados = vectorizadorejemplo.fit_transform(ejemplos)\n",
    "transformados"
   ]
  },
  {
   "cell_type": "markdown",
   "metadata": {},
   "source": [
    "Por eficiencia los vectores calculados se almacenan como una matriz comprimida. Podemos ver los contenidos de esta matriz de la siguiente forma:"
   ]
  },
  {
   "cell_type": "code",
   "execution_count": 14,
   "metadata": {},
   "outputs": [
    {
     "data": {
      "text/plain": [
       "array([[5, 3, 0, 1, 0, 2, 0, 2, 0, 1, 1, 1, 0, 1, 5, 0],\n",
       "       [5, 3, 1, 1, 2, 3, 1, 2, 1, 0, 0, 1, 1, 0, 4, 0],\n",
       "       [1, 1, 0, 0, 2, 0, 1, 0, 0, 0, 0, 1, 0, 1, 0, 1]], dtype=int64)"
      ]
     },
     "execution_count": 14,
     "metadata": {},
     "output_type": "execute_result"
    }
   ],
   "source": [
    "transformados.toarray()"
   ]
  },
  {
   "cell_type": "markdown",
   "metadata": {},
   "source": [
    "¿Qué significa esto? Podemos preguntar a nuestro objeto vectorizador qué vocabulario ha construido con los textos que hemos proporcionado:"
   ]
  },
  {
   "cell_type": "code",
   "execution_count": 15,
   "metadata": {},
   "outputs": [
    {
     "data": {
      "text/plain": [
       "{'t': 14,\n",
       " 'h': 7,\n",
       " 'e': 5,\n",
       " ' ': 0,\n",
       " 'c': 3,\n",
       " 'a': 1,\n",
       " 's': 13,\n",
       " 'o': 11,\n",
       " 'n': 10,\n",
       " 'm': 9,\n",
       " 'd': 4,\n",
       " 'g': 6,\n",
       " 'b': 2,\n",
       " 'r': 12,\n",
       " 'k': 8,\n",
       " 'y': 15}"
      ]
     },
     "execution_count": 15,
     "metadata": {},
     "output_type": "execute_result"
    }
   ],
   "source": [
    "vectorizadorejemplo.vocabulary_"
   ]
  },
  {
   "cell_type": "markdown",
   "metadata": {},
   "source": [
    "Esto nos indica a qué entrada de los vectores generados se corresponde cada palabra del vocabulario. Efectivamente, el primer vector de *transformados*, que corresponde a la frase \"The cat sat on the mat\" nos está indicando que el carácter \"a\" aparece tres veces  (índice 1 del vector) o que el carácter \"c\" aparece una vez (índice 3 del vector). \n",
    "\n",
    "Podemos obtener una representación más gráfica de la vectorización con la siguiente función auxiliar."
   ]
  },
  {
   "cell_type": "code",
   "execution_count": 16,
   "metadata": {},
   "outputs": [
    {
     "data": {
      "image/png": "[encoded data removed]",
      "text/plain": [
       "<Figure size 432x288 with 1 Axes>"
      ]
     },
     "metadata": {
      "needs_background": "light"
     },
     "output_type": "display_data"
    }
   ],
   "source": [
    "%matplotlib inline\n",
    "import matplotlib.pyplot as plt\n",
    "import numpy as np\n",
    "import itertools\n",
    "\n",
    "def plot_vectorizer_matrix(vectorizer, texts, title='Vectorizer matrix', cmap=plt.cm.Blues):\n",
    "    \"\"\"\n",
    "    Generate a visual representation of the matrix produced by a vectorizer over some texts\n",
    "    \"\"\"\n",
    "    np.set_printoptions(precision=2)\n",
    "    matrix = vectorizer.transform(texts).toarray()\n",
    "\n",
    "    plt.imshow(matrix, interpolation='nearest', cmap=cmap)\n",
    "    plt.title(title)\n",
    "    keys = [k for k, v in sorted(vectorizer.vocabulary_.items(), key=lambda x: x[1])]\n",
    "    plt.xticks(np.arange(len(vectorizer.vocabulary_)), keys)\n",
    "    plt.yticks(range(len(texts)), texts)\n",
    "\n",
    "    thresh = matrix.max() / 2.\n",
    "    for i, j in itertools.product(range(matrix.shape[0]), range(matrix.shape[1])):\n",
    "        if matrix[i, j] > 0:\n",
    "            plt.text(j, i, format(matrix[i, j], 'd'),\n",
    "                     horizontalalignment=\"center\",\n",
    "                     color=\"white\" if matrix[i, j] > thresh else \"black\")\n",
    "\n",
    "plot_vectorizer_matrix(vectorizadorejemplo, ejemplos)"
   ]
  },
  {
   "cell_type": "markdown",
   "metadata": {},
   "source": [
    "Aquí vemos claramente el resultado de la vectorización: el texto *Dog days* se ha transformado a un vector que nos indica que en el texto original había presentes los siguientes caracteres: 1 espacio, 1 `a`, 2 `d`, 1 `o`, 1 `s`, y 1 `y`."
   ]
  },
  {
   "cell_type": "markdown",
   "metadata": {},
   "source": [
    "Para combinar fácilmente este proceso de vectorización con un modelo de clasificación vamos a usar un **Pipeline** de scikit-learn. En ejercicios posteriores veremos más detalles sobre esto; de momento nos basta con saber que un Pipeline define una serie de etapas del modelo."
   ]
  },
  {
   "cell_type": "code",
   "execution_count": 17,
   "metadata": {},
   "outputs": [],
   "source": [
    "from sklearn.pipeline import Pipeline\n",
    "from sklearn.linear_model import SGDClassifier\n",
    "\n",
    "model = Pipeline([\n",
    "    ('vectorizer', CountVectorizer(analyzer = \"char\", ngram_range = (1,1))),\n",
    "    ('classifier', SGDClassifier(max_iter=1))\n",
    "    ]\n",
    ")"
   ]
  },
  {
   "cell_type": "markdown",
   "metadata": {},
   "source": [
    "Aquí hemos definido un Pipeline que primero aplica la vectorización por frecuencias de caracteres que hemos discutido arriba, y después la pasa a un modelo de clasificación tipo SGDClassifier. Este es un modelo tipo SVM lineal cuya implementación está especializada en trabajar con grandes volúmenes de datos. Dado que contamos con casi 5 millones de frases para entrenar, es suficiente con hacer una sola iteración sobre los datos de entrenamiento.\n",
    "\n",
    "Una vez definido, entrenamos el modelo con los datos de entrenamiento que habíamos preparado. El entrenamiento debería tardar en torno a 2 minutos."
   ]
  },
  {
   "cell_type": "code",
   "execution_count": 18,
   "metadata": {},
   "outputs": [
    {
     "name": "stderr",
     "output_type": "stream",
     "text": [
      "/home/alvaro/miniconda3/envs/textmining-labs/lib/python3.6/site-packages/sklearn/linear_model/stochastic_gradient.py:183: FutureWarning: max_iter and tol parameters have been added in SGDClassifier in 0.19. If max_iter is set but tol is left unset, the default value for tol in 0.19 and 0.20 will be None (which is equivalent to -infinity, so it has no effect) but will change in 0.21 to 1e-3. Specify tol to silence this warning.\n",
      "  FutureWarning)\n"
     ]
    },
    {
     "name": "stdout",
     "output_type": "stream",
     "text": [
      "CPU times: user 1min 50s, sys: 816 ms, total: 1min 51s\n",
      "Wall time: 1min 42s\n"
     ]
    },
    {
     "data": {
      "text/plain": [
       "Pipeline(memory=None,\n",
       "     steps=[('vectorizer', CountVectorizer(analyzer='char', binary=False, decode_error='strict',\n",
       "        dtype=<class 'numpy.int64'>, encoding='utf-8', input='content',\n",
       "        lowercase=True, max_df=1.0, max_features=None, min_df=1,\n",
       "        ngram_range=(1, 1), preprocessor=None, stop_words=None,\n",
       "       ...m_state=None, shuffle=True, tol=None,\n",
       "       validation_fraction=0.1, verbose=0, warm_start=False))])"
      ]
     },
     "execution_count": 18,
     "metadata": {},
     "output_type": "execute_result"
    }
   ],
   "source": [
    "%%time\n",
    "model.fit(X_train, y_train)"
   ]
  },
  {
   "cell_type": "markdown",
   "metadata": {},
   "source": [
    "Con el modelo ya entrenado vamos a valorar cómo de bien lo hemos hecho en el conjunto de datos de test. Para ello podemos usar el método score del modelo."
   ]
  },
  {
   "cell_type": "code",
   "execution_count": 19,
   "metadata": {},
   "outputs": [
    {
     "data": {
      "text/plain": [
       "0.8752225582484985"
      ]
     },
     "execution_count": 19,
     "metadata": {},
     "output_type": "execute_result"
    }
   ],
   "source": [
    "model.score(X_test, y_test)"
   ]
  },
  {
   "cell_type": "markdown",
   "metadata": {},
   "source": [
    "Deberías haber obtenido en torno a un 86%-87% de accuracy. Para hacer un análisis más en profundidad de la calidad de este modelo, vamos a pintar la matriz de confusión por idiomas. Para ello nos apoyaremos en la siguiente función:"
   ]
  },
  {
   "cell_type": "code",
   "execution_count": null,
   "metadata": {},
   "outputs": [],
   "source": [
    "def plot_confusion_matrix(cm, classes,\n",
    "                          normalize=False,\n",
    "                          title='Confusion matrix',\n",
    "                          cmap=plt.cm.Blues):\n",
    "    \"\"\"\n",
    "    This function prints and plots the confusion matrix.\n",
    "    Normalization can be applied by setting `normalize=True`.\n",
    "    \"\"\"\n",
    "    np.set_printoptions(precision=2)\n",
    "    if normalize:\n",
    "        cm = cm.astype('float') / cm.sum(axis=1)[:, np.newaxis]\n",
    "\n",
    "    plt.imshow(cm, interpolation='nearest', cmap=cmap)\n",
    "    plt.title(title)\n",
    "    plt.colorbar()\n",
    "    tick_marks = np.arange(len(classes))\n",
    "    plt.xticks(tick_marks, classes, rotation=45)\n",
    "    plt.yticks(tick_marks, classes)\n",
    "\n",
    "    fmt = '.2f' if normalize else 'd'\n",
    "    thresh = cm.max() / 2.\n",
    "    for i, j in itertools.product(range(cm.shape[0]), range(cm.shape[1])):\n",
    "        plt.text(j, i, format(cm[i, j], fmt),\n",
    "                 horizontalalignment=\"center\",\n",
    "                 color=\"white\" if cm[i, j] > thresh else \"black\")\n",
    "\n",
    "    plt.ylabel('True label')\n",
    "    plt.xlabel('Predicted label')\n",
    "    plt.tight_layout()"
   ]
  },
  {
   "cell_type": "markdown",
   "metadata": {},
   "source": [
    "Ahora generamos las predicciones para el conjunto de test, usamos la función de scikit-learn que calcula la matriz de confusión, y la pintamos con la función definida arriba."
   ]
  },
  {
   "cell_type": "code",
   "execution_count": null,
   "metadata": {},
   "outputs": [
    {
     "data": {
      "image/png": "[encoded data removed]",
      "text/plain": [
       "<Figure size 864x864 with 2 Axes>"
      ]
     },
     "metadata": {
      "needs_background": "light"
     },
     "output_type": "display_data"
    }
   ],
   "source": [
    "from sklearn.metrics import confusion_matrix\n",
    "\n",
    "y_pred = model.predict(X_test)\n",
    "cnf_matrix = confusion_matrix(y_test, y_pred)\n",
    "plt.figure(figsize=(12,12))\n",
    "plot_confusion_matrix(cnf_matrix, classes=labelencoder.classes_, normalize=True, title='Normalized confusion matrix')\n",
    "plt.show()"
   ]
  },
  {
   "cell_type": "markdown",
   "metadata": {},
   "source": [
    "La matriz de confusión revela que algunos idiomas son muy fácilmente identificables: chino mandarín, hebreo, japonés y ruso. Esto tiene sentido porque emplean un juego de caracteres muy diferente al de otros idiomas. Sin embargo el modelo confunde mucho entre sí los idiomas que son similares: berebe con cabilio, o español con italiano y portugués.\n",
    "\n",
    "Podemos hacerlo mejor. Pero para ello tendremos que recurrir a n-gramas de caracteres."
   ]
  },
  {
   "cell_type": "markdown",
   "metadata": {},
   "source": [
    "## Modelo de bi-gramas"
   ]
  },
  {
   "cell_type": "markdown",
   "metadata": {},
   "source": [
    "<table>\n",
    " <tr>\n",
    "  <tr><td width=\"80\"><img src=\"img/question.png\" style=\"width:auto;height:auto\"></td><td style=\"text-align:left\">\n",
    "      Repite los pasos anteriores para construir un modelo de bi-gramas de caracteres. ¿Obtienes mejor precisión global con este modelo? ¿Qué confusiones han desaparecido en la matriz de confusión? ¿Cuáles permanecen?\n",
    "  </td>\n",
    " </tr> \n",
    "</table>"
   ]
  },
  {
   "cell_type": "markdown",
   "metadata": {},
   "source": [
    "<table>\n",
    " <tr>\n",
    "  <tr><td width=\"80\"><img src=\"img/exclamation.png\" style=\"width:auto;height:auto\"></td><td style=\"text-align:left\">\n",
    "      Revisar la explicación anterior de los parámetros que acepta CountVectorizer. Solo es necesario cambiar este elemento en la definición del Pipeline para obtener el modelo de bigramas.\n",
    "  </td>\n",
    " </tr> \n",
    "</table>"
   ]
  },
  {
   "cell_type": "code",
   "execution_count": null,
   "metadata": {},
   "outputs": [
    {
     "name": "stdout",
     "output_type": "stream",
     "text": [
      "0.9775524981897176\n"
     ]
    }
   ],
   "source": [
    "####### INSERT YOUR CODE HERE\n",
    "model = Pipeline([\n",
    "    ('vectorizer', CountVectorizer(analyzer = \"char\", ngram_range = (1,2))),\n",
    "    ('classifier', SGDClassifier(max_iter=1))\n",
    "    ]\n",
    ")\n",
    "\n",
    "model.fit(X_train, y_train)\n",
    "print(model.score(X_test, y_test))\n",
    "y_pred = model.predict(X_test)\n",
    "cnf_matrix = confusion_matrix(y_test, y_pred)\n",
    "plt.figure(figsize=(12,12))\n",
    "plot_confusion_matrix(cnf_matrix, classes=labelencoder.classes_, normalize=True, title='Normalized confusion matrix')\n",
    "plt.show()"
   ]
  },
  {
   "cell_type": "markdown",
   "metadata": {},
   "source": [
    "## Más allá de bi-gramas"
   ]
  },
  {
   "cell_type": "markdown",
   "metadata": {},
   "source": [
    "Es posible obtener resultados aún mejores si se emplean tri-gramas o tetra-gramas. Pero dado el tamaño del dataset esto puede requerir de un gasto excesivo de memoria. Para evitar esto, será necesario recurrir a otras estrategias de vectorización, como [HashingVectorizer](http://scikit-learn.org/stable/modules/generated/sklearn.feature_extraction.text.HashingVectorizer.html)."
   ]
  },
  {
   "cell_type": "markdown",
   "metadata": {},
   "source": [
    "<table>\n",
    " <tr>\n",
    "  <tr><td width=\"80\"><img src=\"img/pro.png\" style=\"width:auto;height:auto\"></td><td style=\"text-align:left\">\n",
    "      Intenta mejorar los resultados del modelo bi-gramas utilizando HashingVectorizer y un mayor orden de n-gramas.\n",
    "  </td>\n",
    " </tr> \n",
    "</table>"
   ]
  },
  {
   "cell_type": "code",
   "execution_count": null,
   "metadata": {},
   "outputs": [],
   "source": [
    "####### INSERT YOUR CODE HERE"
   ]
  }
 ],
 "metadata": {
  "kernelspec": {
   "display_name": "Python 3",
   "language": "python",
   "name": "python3"
  },
  "language_info": {
   "codemirror_mode": {
    "name": "ipython",
    "version": 3
   },
   "file_extension": ".py",
   "mimetype": "text/x-python",
   "name": "python",
   "nbconvert_exporter": "python",
   "pygments_lexer": "ipython3",
   "version": "3.6.8"
  }
 },
 "nbformat": 4,
 "nbformat_minor": 1
}
